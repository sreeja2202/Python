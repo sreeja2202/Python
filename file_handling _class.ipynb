{
 "cells": [
  {
   "cell_type": "code",
   "execution_count": null,
   "id": "d2f7c0ba",
   "metadata": {},
   "outputs": [],
   "source": [
    "## tsv,csv,xlsx,exe,txt,json ----> file format"
   ]
  },
  {
   "cell_type": "code",
   "execution_count": 1,
   "id": "49c1184a",
   "metadata": {},
   "outputs": [
    {
     "name": "stdout",
     "output_type": "stream",
     "text": [
      " Volume in drive F has no label.\n",
      " Volume Serial Number is 1EE2-A741\n",
      "\n",
      " Directory of F:\\python\n",
      "\n",
      "16-08-2023  10:04    <DIR>          .\n",
      "16-08-2023  10:04    <DIR>          ..\n",
      "07-08-2023  09:30             5,117 .~Iris.csv\n",
      "07-08-2023  10:11             5,084 .~new_iris.csv\n",
      "16-08-2023  09:59    <DIR>          .ipynb_checkpoints\n",
      "09-08-2023  15:15            26,883 9-08-23.ipynb\n",
      "16-08-2023  10:04             1,861 file_handling _class.ipynb\n",
      "07-08-2023  10:11             5,084 new_iris.csv\n",
      "04-08-2023  21:54            14,617 numpy_assignment_sreeja.ipynb\n",
      "04-08-2023  21:55             2,572 numpy_assignment_sreeja_239_Batch.zip\n",
      "04-08-2023  21:40            37,846 numpy_classnotes.ipynb\n",
      "04-08-2023  12:08            21,018 pandas.ipynb\n",
      "08-08-2023  09:38            59,362 pandas_7.ipynb\n",
      "07-08-2023  16:45           119,562 pandas_classnotes_3.ipynb\n",
      "15-08-2023  21:01            13,939 project_python.ipynb\n",
      "10-08-2023  11:28             4,066 task_1.ipynb\n",
      "10-08-2023  09:38             3,041 TASK_2_SREEJA.ipynb\n",
      "10-08-2023  22:30             4,765 task_3_sreeja.ipynb\n",
      "10-08-2023  20:29             1,290 task_3_sreeja.zip\n",
      "09-08-2023  12:11             3,592 TASK2_SREEJA.ipynb\n",
      "09-08-2023  11:58               737 TASK2_SREEJA.zip\n",
      "15-08-2023  17:25            14,091 task4_11_08_sreeja.ipynb\n",
      "12-08-2023  08:31               898 task4_11_08_sreeja.zip\n",
      "15-08-2023  18:01             2,763 task4_11_08_sreeja-Copy1.ipynb\n",
      "15-08-2023  22:23             6,432 telephone_directory_task5.ipynb\n",
      "15-08-2023  22:20             1,181 telephone_directory_task5.zip\n",
      "14-08-2023  09:54             9,798 Untitled.ipynb\n",
      "07-08-2023  22:30             2,633 Untitled1.ipynb\n",
      "07-08-2023  21:18             8,615 Untitled2.ipynb\n",
      "10-08-2023  10:44             3,998 Untitled3.ipynb\n",
      "10-08-2023  11:28             1,237 Untitled4.ipynb\n",
      "14-08-2023  09:59             6,410 Untitled5.ipynb\n",
      "14-08-2023  11:09             4,985 Untitled6.ipynb\n",
      "15-08-2023  22:40             4,278 Untitled7.ipynb\n",
      "              31 File(s)        397,755 bytes\n",
      "               3 Dir(s)  322,001,625,088 bytes free\n"
     ]
    }
   ],
   "source": [
    "ls\n"
   ]
  },
  {
   "cell_type": "code",
   "execution_count": 74,
   "id": "5c1c5cfc",
   "metadata": {},
   "outputs": [
    {
     "name": "stdout",
     "output_type": "stream",
     "text": [
      "Hello World!!!\n",
      " hi i am sree\n",
      " i am a python programmer\n",
      "This will append into the next line\n"
     ]
    }
   ],
   "source": [
    "## reading file\n",
    "with open (\"sample.txt\",mode=\"r\") as file:\n",
    "    print(file.read())"
   ]
  },
  {
   "cell_type": "code",
   "execution_count": 75,
   "id": "3b082760",
   "metadata": {},
   "outputs": [
    {
     "name": "stdout",
     "output_type": "stream",
     "text": [
      "Hello World!!!\n",
      " hi i am sree\n",
      " i am a python programmer\n",
      "This will append into the next line\n"
     ]
    }
   ],
   "source": [
    "with open (\"sample.txt\",mode=\"r\") as file:\n",
    "    print(file.read())"
   ]
  },
  {
   "cell_type": "code",
   "execution_count": 76,
   "id": "d458ff68",
   "metadata": {},
   "outputs": [
    {
     "name": "stdout",
     "output_type": "stream",
     "text": [
      "Hello World!!!\n",
      " hi i am sree\n",
      " i am a python programmer\n",
      "This will append into the next line\n"
     ]
    }
   ],
   "source": [
    "f=open(\"sample.txt\",\"r\")\n",
    "print(f.read())\n",
    "f.close()"
   ]
  },
  {
   "cell_type": "code",
   "execution_count": 77,
   "id": "791f9e65",
   "metadata": {},
   "outputs": [
    {
     "data": {
      "text/plain": [
       "'Hello World!!!\\n hi i am sree\\n i am a python programmer\\nThis will append into the next line'"
      ]
     },
     "execution_count": 77,
     "metadata": {},
     "output_type": "execute_result"
    }
   ],
   "source": [
    "f = open(r\"F:\\python\\sample.txt\", \"r\")\n",
    "f.read()\n"
   ]
  },
  {
   "cell_type": "code",
   "execution_count": 78,
   "id": "05d47368",
   "metadata": {},
   "outputs": [
    {
     "name": "stdout",
     "output_type": "stream",
     "text": [
      "['Hello World!!!\\n']\n"
     ]
    }
   ],
   "source": [
    "f = open(r\"F:\\python\\sample.txt\", \"r\")\n",
    "print(f.readlines(1))"
   ]
  },
  {
   "cell_type": "code",
   "execution_count": 79,
   "id": "321bae2b",
   "metadata": {},
   "outputs": [
    {
     "name": "stdout",
     "output_type": "stream",
     "text": [
      "Hello World!!!\n",
      "\n",
      " hi i am sree\n",
      "\n",
      " i am a python programmer\n",
      "\n"
     ]
    }
   ],
   "source": [
    "f = open(r\"F:\\python\\sample.txt\", \"r\")\n",
    "print(f.readline())\n",
    "print(f.readline())\n",
    "print(f.readline())"
   ]
  },
  {
   "cell_type": "code",
   "execution_count": 80,
   "id": "724fa936",
   "metadata": {},
   "outputs": [
    {
     "name": "stdout",
     "output_type": "stream",
     "text": [
      "['Hello', 'World!!!']\n",
      "['hi', 'i', 'am', 'sree']\n",
      "['i', 'am', 'a', 'python', 'programmer']\n",
      "['This', 'will', 'append', 'into', 'the', 'next', 'line']\n"
     ]
    }
   ],
   "source": [
    "with open(\"sample.txt\", \"r\") as file:\n",
    "    data = file.readlines()\n",
    "    for line in data:\n",
    "        word = line.split()\n",
    "        print (word)"
   ]
  },
  {
   "cell_type": "markdown",
   "id": "80ea2291",
   "metadata": {},
   "source": [
    "## write()"
   ]
  },
  {
   "cell_type": "code",
   "execution_count": 81,
   "id": "6cf982bf",
   "metadata": {},
   "outputs": [
    {
     "name": "stdout",
     "output_type": "stream",
     "text": [
      "2\n"
     ]
    }
   ],
   "source": [
    "with open(\"new.text\",mode=\"w\")as f:\n",
    "    print(f.write(\"hi\"))"
   ]
  },
  {
   "cell_type": "code",
   "execution_count": 82,
   "id": "4949ae75",
   "metadata": {},
   "outputs": [
    {
     "name": "stdout",
     "output_type": "stream",
     "text": [
      "55\n"
     ]
    }
   ],
   "source": [
    "# Python code to illustrate with() alongwith write()\n",
    "with open(\"sample.txt\", \"w\") as f:\n",
    "    print( f.write(\"Hello World!!!\\n hi i am sree\\n i am a python programmer\\n\"))\n"
   ]
  },
  {
   "cell_type": "markdown",
   "id": "61610436",
   "metadata": {},
   "source": [
    "# append method()"
   ]
  },
  {
   "cell_type": "code",
   "execution_count": 83,
   "id": "0c316bbb",
   "metadata": {},
   "outputs": [
    {
     "name": "stdout",
     "output_type": "stream",
     "text": [
      "35\n"
     ]
    }
   ],
   "source": [
    "# Python code to illustrate with() alongwith write()\n",
    "with open(\"sample.txt\", \"a\") as f:\n",
    "    print( f.write(\"This will append into the next line\"))\n"
   ]
  },
  {
   "cell_type": "code",
   "execution_count": 89,
   "id": "412b1535",
   "metadata": {},
   "outputs": [
    {
     "name": "stdout",
     "output_type": "stream",
     "text": [
      "9\n"
     ]
    }
   ],
   "source": [
    "## creating a csv file\n",
    "\n",
    "with open(\"new_csv_file.csv\",\"w\") as f:\n",
    "    print(f.write(\"csv fomat\"))"
   ]
  },
  {
   "cell_type": "code",
   "execution_count": 85,
   "id": "000f5af3",
   "metadata": {},
   "outputs": [
    {
     "name": "stdout",
     "output_type": "stream",
     "text": [
      "name,age,id\n",
      "sree,22,76\n"
     ]
    }
   ],
   "source": [
    "## creating a csv file\n",
    "\n",
    "with open(\"new_csv_file.csv\",\"r\") as f:\n",
    "    print(f.read())"
   ]
  },
  {
   "cell_type": "code",
   "execution_count": 88,
   "id": "d65c0432",
   "metadata": {},
   "outputs": [
    {
     "name": "stdout",
     "output_type": "stream",
     "text": [
      "22\n"
     ]
    }
   ],
   "source": [
    "## creating a csv file\n",
    "\n",
    "with open(\"new_csv_file.csv\",\"w\") as f:\n",
    "    print(f.write(\"name,age,id\\nsree,22,76\"))"
   ]
  },
  {
   "cell_type": "code",
   "execution_count": 90,
   "id": "c875214c",
   "metadata": {},
   "outputs": [
    {
     "name": "stdout",
     "output_type": "stream",
     "text": [
      "22\n"
     ]
    }
   ],
   "source": [
    "## creating a csv file\n",
    "\n",
    "with open(\"new_csv_file.txt\",\"w\") as f:\n",
    "    print(f.write(\"name,age,id\\nsree,22,76\"))"
   ]
  },
  {
   "cell_type": "code",
   "execution_count": null,
   "id": "d25b0242",
   "metadata": {},
   "outputs": [],
   "source": []
  }
 ],
 "metadata": {
  "kernelspec": {
   "display_name": "Python 3 (ipykernel)",
   "language": "python",
   "name": "python3"
  },
  "language_info": {
   "codemirror_mode": {
    "name": "ipython",
    "version": 3
   },
   "file_extension": ".py",
   "mimetype": "text/x-python",
   "name": "python",
   "nbconvert_exporter": "python",
   "pygments_lexer": "ipython3",
   "version": "3.11.3"
  }
 },
 "nbformat": 4,
 "nbformat_minor": 5
}
